{
 "cells": [
  {
   "cell_type": "code",
   "execution_count": 175,
   "metadata": {},
   "outputs": [],
   "source": [
    "from numpy import array, sum as numpy_sum, sqrt as square_root, delete, insert, max as numpy_max\n",
    "\n",
    "weights = [0.2336\t,0.1652\t,0.3355\t,0.1021,\t0.0424,\t0.1212]\n",
    "data = array([\n",
    "    [1350,\t1850,\t7.5,\t2.58,\t93.5,\t0.045],\n",
    "    [1680,\t1650,\t8.5,\t3.75,\t95.3,\t0.068],\n",
    "    [1560,\t1950,\t6.5,\t4.86,\t88.6,\t0.095],\n",
    "    [1470,\t1850,\t9.5,\t3.16,\t98.4,\t0.072],\n",
    "])"
   ]
  },
  {
   "cell_type": "code",
   "execution_count": 176,
   "metadata": {},
   "outputs": [
    {
     "data": {
      "text/plain": [
       "0.7126574193398096"
      ]
     },
     "execution_count": 176,
     "metadata": {},
     "output_type": "execute_result"
    }
   ],
   "source": [
    "squared_data = data.copy()\n",
    "\n",
    "for row in range(squared_data.shape[0]):\n",
    "    for column in range(squared_data.shape[1]):\n",
    "        squared_data[row, column] *= squared_data[row, column]\n",
    "\n",
    "sum_data = squared_data.transpose()\n",
    "\n",
    "normalized_data = [square_root(numpy_sum(sum_data[row])) for row in range(sum_data.shape[0])]\n",
    "\n",
    "for row in range(data.shape[0]):\n",
    "    for column in range(data.shape[1]):\n",
    "        data[row, column] /= normalized_data[column]\n",
    "        data[row, column] *= weights[column]\n",
    "\n",
    "weighted_matrix = data.copy()\n",
    "\n",
    "\n",
    "def calculate_set_row(set_row: int):\n",
    "    current_row = weighted_matrix[set_row]\n",
    "    rest_of_rows = delete(weighted_matrix.copy(), set_row, 0)\n",
    "    \n",
    "    for row in range(rest_of_rows.shape[0]):\n",
    "        for column in range(rest_of_rows.shape[1]):\n",
    "            rest_of_rows[row, column] = 1 if current_row[column] >= rest_of_rows[row, column] else 0\n",
    "\n",
    "    return rest_of_rows\n",
    "\n",
    "matrices = [calculate_set_row(set_row) for set_row in range(weighted_matrix.shape[0])]\n",
    "\n",
    "def calculate_interval_matrix(row_index: int):\n",
    "    current_matrix = matrices[row_index].copy()\n",
    "    for row in range(current_matrix.shape[0]):\n",
    "        for column in range(current_matrix.shape[1]):\n",
    "            current_matrix[row,column] = weights[column] if matrices[row_index][row, column] else 0\n",
    "    \n",
    "    return [numpy_sum(current_matrix[row]) for row in range(current_matrix.shape[0])]\n",
    "\n",
    "\n",
    "interval_matrix = array([insert(calculate_interval_matrix(m), m, 0) for m in range(len(matrices))])\n",
    "\n",
    "row_sum = [numpy_sum(interval_matrix[row]) for row in range(interval_matrix.shape[0])]\n",
    "# col_sum = [numpy_sum(interval_matrix.transpose()[row]) for row in range(interval_matrix.shape[0])]\n",
    "\n",
    "\n",
    "\n",
    "m = interval_matrix.shape[0]\n",
    "divisor = m * (m - 1)\n",
    "\n",
    "c = numpy_sum(row_sum) / divisor\n",
    "\n",
    "deteninnine_matrix = interval_matrix.copy()\n",
    "\n",
    "for row in range(deteninnine_matrix.shape[0]):\n",
    "    for column in range(deteninnine_matrix.shape[1]):\n",
    "        deteninnine_matrix[row][column] = 1 if deteninnine_matrix[row][column] >= c else 0\n",
    "\n",
    "\n",
    "def calculate_discordance_matrix(set_row: int):\n",
    "    current_row = weighted_matrix.copy()[set_row]\n",
    "    rest_of_rows = delete(weighted_matrix.copy(), set_row, 0)\n",
    "    \n",
    "    for row in range(rest_of_rows.shape[0]):\n",
    "        for column in range(rest_of_rows.shape[1]):\n",
    "            rest_of_rows[row, column] = abs(current_row[column] - rest_of_rows[row, column])\n",
    "\n",
    "    return rest_of_rows\n",
    "\n",
    "discordance_matrices = array([calculate_discordance_matrix(m) for m in range(len(weighted_matrix))])\n",
    "\n",
    "def calculate_discordance_matrix_indices(matrix_index: int):\n",
    "    current_matrix = discordance_matrices.copy()[matrix_index]\n",
    "    zero_one_matrix = matrices.copy()[matrix_index]\n",
    "    for row in range(current_matrix.shape[0]):        \n",
    "        for column in range(current_matrix.shape[1]):\n",
    "            zero_one_matrix[row,column] = current_matrix[row, column] if zero_one_matrix[row,column] == 0 else 0\n",
    "    \n",
    "    return [numpy_max(zero_one_matrix[row]) / numpy_max(current_matrix[row]) for row in range(len(current_matrix))]\n",
    "\n",
    "discordance_interval_matrix = array([insert(calculate_discordance_matrix_indices(m), m, 0) for m in range(len(discordance_matrices))])\n",
    "\n",
    "discordance_compare_with = numpy_sum(numpy_sum(discordance_interval_matrix, 1),0) / divisor\n",
    "\n",
    "for row in discordance_interval_matrix.shape[0]:\n",
    "    for row in discordance_interval_matrix.shape[0]:"
   ]
  }
 ],
 "metadata": {
  "kernelspec": {
   "display_name": "Python 3",
   "language": "python",
   "name": "python3"
  },
  "language_info": {
   "codemirror_mode": {
    "name": "ipython",
    "version": 3
   },
   "file_extension": ".py",
   "mimetype": "text/x-python",
   "name": "python",
   "nbconvert_exporter": "python",
   "pygments_lexer": "ipython3",
   "version": "3.11.4"
  }
 },
 "nbformat": 4,
 "nbformat_minor": 2
}
